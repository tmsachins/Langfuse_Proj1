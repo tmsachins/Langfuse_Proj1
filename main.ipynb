{
 "cells": [
  {
   "cell_type": "code",
   "execution_count": 1,
   "id": "d0c99fc9",
   "metadata": {},
   "outputs": [
    {
     "data": {
      "text/plain": [
       "True"
      ]
     },
     "execution_count": 1,
     "metadata": {},
     "output_type": "execute_result"
    }
   ],
   "source": [
    "from dotenv import load_dotenv\n",
    "import os\n",
    "load_dotenv()"
   ]
  },
  {
   "cell_type": "code",
   "execution_count": 2,
   "id": "956598fc",
   "metadata": {},
   "outputs": [],
   "source": [
    "# database_url = os.getenv('DATABASE_URL')\n",
    "# secret_key = os.getenv('SECRET_KEY')\n",
    "\n",
    "# LANGFUSE_SECRET_KEY=os.getenv(\"LANGFUSE_SECRET_KEY\")\n",
    "# LANGFUSE_PUBLIC_KEY=os.getenv('LANGFUSE_PUBLIC_KEY')\n",
    "# # 🇪🇺 EU region\n",
    "# LANGFUSE_HOST=os.getenv('LANGFUSE_HOST')\n",
    "\n",
    "\n",
    "os.environ[\"LANGFUSE_SECRET_KEY\"]=os.getenv(\"LANGFUSE_SECRET_KEY\")\n",
    "os.environ['LANGFUSE_PUBLIC_KEY']=os.getenv('LANGFUSE_PUBLIC_KEY')\n",
    "# 🇪🇺 EU region\n",
    "os.environ['LANGFUSE_HOST']=os.getenv('LANGFUSE_HOST')\n",
    "os.environ['OPENAI_API_KEY']=os.getenv('OPENAI_API_KEY')\n"
   ]
  },
  {
   "cell_type": "code",
   "execution_count": 5,
   "id": "36cdc8ad",
   "metadata": {},
   "outputs": [
    {
     "name": "stdout",
     "output_type": "stream",
     "text": [
      "sk-lf-00ce963e-8d5f-4254-bb69-7e226018a64d\n",
      "pk-lf-b260d479-2ac7-43dc-aa4f-11f03af1b913\n",
      "https://cloud.langfuse.com\n"
     ]
    }
   ],
   "source": [
    "print(os.getenv(\"LANGFUSE_SECRET_KEY\"))\n",
    "print(os.getenv('LANGFUSE_PUBLIC_KEY'))\n",
    "\n",
    "print(os.getenv('LANGFUSE_HOST'))"
   ]
  },
  {
   "cell_type": "code",
   "execution_count": null,
   "id": "9397e74c",
   "metadata": {},
   "outputs": [],
   "source": [
    "from langfuse import Langfuse\n",
    "\n",
    "langfuse = Langfuse(\n",
    "  secret_key=os.environ[\"LANGFUSE_SECRET_KEY\"],\n",
    "  public_key=os.environ['LANGFUSE_PUBLIC_KEY'],\n",
    "  host=\"https://cloud.langfuse.com\"\n",
    ")"
   ]
  },
  {
   "cell_type": "code",
   "execution_count": null,
   "id": "dc3e34f9",
   "metadata": {},
   "outputs": [
    {
     "name": "stdout",
     "output_type": "stream",
     "text": [
      "\n",
      "\n",
      "Rose petals fall\n",
      "Beauty fades away\n",
      "But love remains strong\n",
      "Forever and a day\n"
     ]
    }
   ],
   "source": [
    "from langchain.llms import OpenAI\n",
    "\n",
    "\n",
    "llm = OpenAI(\n",
    "    openai_api_key=os.environ['OPENAI_API_KEY']\n",
    "\n",
    ")\n",
    "\n",
    "# @observe()\n",
    "def fun1():\n",
    "    result = llm(\"Write a very short poem\")\n",
    "    print(result)\n",
    "\n",
    "fun1()"
   ]
  },
  {
   "cell_type": "code",
   "execution_count": 39,
   "id": "0b179e9a",
   "metadata": {},
   "outputs": [
    {
     "data": {
      "text/plain": [
       "'a lone star blinked to life. It whispered secrets of forgotten worlds to those who dreamt deeply. A young dreamer, eyes wide with wonder, heard its call. Guided by starlight, they embarked on an interstellar journey, discovering that every star harbored ancient tales waiting to be told.'"
      ]
     },
     "execution_count": 39,
     "metadata": {},
     "output_type": "execute_result"
    }
   ],
   "source": [
    "from langfuse.decorators import langfuse_context, observe\n",
    "from langfuse.openai import openai # OpenAI integration\n",
    "from langfuse import Langfuse\n",
    " \n",
    "# langfuse = Langfuse()\n",
    "# @observe(name=\"Proj1_story_gen\")\n",
    "\n",
    "@observe()\n",
    "def story():\n",
    "    langfuse_context.update_current_trace(\n",
    "    metadata={\"pdf_id\":\"pdf1\", \"conversation_id\": \"conver1\"},\n",
    "    user_id=\"user-id4\",\n",
    "    session_id=\"session1\"\n",
    "    )\n",
    "    return openai.chat.completions.create(\n",
    "        model=\"gpt-4o\",\n",
    "        messages=[\n",
    "          {\"role\": \"system\", \"content\": \"You are a great storyteller, write a story in not more than 50 words.\"},\n",
    "          {\"role\": \"user\", \"content\": \"Once upon a time in a galaxy far, far away...\"}\n",
    "        ],\n",
    "    ).choices[0].message.content\n",
    "    # trace = langfuse.trace.create(name=\"custom_genai_trace\", user_id=\"user-123\")\n",
    "\n",
    " \n",
    "# @observe(name=\"Proj1_story_gen\")\n",
    "@observe()\n",
    "def main():\n",
    "    return story()\n",
    " \n",
    "main()\n",
    "\n"
   ]
  },
  {
   "cell_type": "code",
   "execution_count": null,
   "id": "055b422e",
   "metadata": {},
   "outputs": [],
   "source": []
  }
 ],
 "metadata": {
  "kernelspec": {
   "display_name": "Python 3",
   "language": "python",
   "name": "python3"
  },
  "language_info": {
   "codemirror_mode": {
    "name": "ipython",
    "version": 3
   },
   "file_extension": ".py",
   "mimetype": "text/x-python",
   "name": "python",
   "nbconvert_exporter": "python",
   "pygments_lexer": "ipython3",
   "version": "3.9.21"
  }
 },
 "nbformat": 4,
 "nbformat_minor": 5
}
