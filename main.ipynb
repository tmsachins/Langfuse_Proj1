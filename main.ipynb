{
 "cells": [
  {
   "cell_type": "code",
   "execution_count": 13,
   "id": "d0c99fc9",
   "metadata": {},
   "outputs": [
    {
     "data": {
      "text/plain": [
       "True"
      ]
     },
     "execution_count": 13,
     "metadata": {},
     "output_type": "execute_result"
    }
   ],
   "source": [
    "from dotenv import load_dotenv\n",
    "import os\n",
    "load_dotenv()"
   ]
  },
  {
   "cell_type": "code",
   "execution_count": 14,
   "id": "956598fc",
   "metadata": {},
   "outputs": [],
   "source": [
    "# database_url = os.getenv('DATABASE_URL')\n",
    "# secret_key = os.getenv('SECRET_KEY')\n",
    "\n",
    "LANGFUSE_SECRET_KEY=os.getenv(\"LANGFUSE_SECRET_KEY\")\n",
    "LANGFUSE_PUBLIC_KEY=os.getenv('LANGFUSE_SECRET_KEY')\n",
    "# 🇪🇺 EU region\n",
    "LANGFUSE_HOST=os.getenv('LANGFUSE_HOST')\n"
   ]
  },
  {
   "cell_type": "code",
   "execution_count": 15,
   "id": "36cdc8ad",
   "metadata": {},
   "outputs": [
    {
     "name": "stdout",
     "output_type": "stream",
     "text": [
      "sk-lf-...\n",
      "sk-lf-...\n",
      "https://cloud.langfuse.com\n"
     ]
    }
   ],
   "source": [
    "print(LANGFUSE_SECRET_KEY)\n",
    "print(LANGFUSE_PUBLIC_KEY)\n",
    "# 🇪🇺 EU region\n",
    "print(LANGFUSE_HOST)"
   ]
  },
  {
   "cell_type": "code",
   "execution_count": null,
   "id": "0b179e9a",
   "metadata": {},
   "outputs": [],
   "source": []
  }
 ],
 "metadata": {
  "kernelspec": {
   "display_name": "Python 3",
   "language": "python",
   "name": "python3"
  },
  "language_info": {
   "codemirror_mode": {
    "name": "ipython",
    "version": 3
   },
   "file_extension": ".py",
   "mimetype": "text/x-python",
   "name": "python",
   "nbconvert_exporter": "python",
   "pygments_lexer": "ipython3",
   "version": "3.9.21"
  }
 },
 "nbformat": 4,
 "nbformat_minor": 5
}
